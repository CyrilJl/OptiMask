{
 "cells": [
  {
   "cell_type": "markdown",
   "id": "a47575d4-9a61-4f0d-85d0-dcf66e5f5ebf",
   "metadata": {},
   "source": [
    "# OptiMask: Efficient Python Package for NaN Data Removal\n",
    "\n",
    "Introducing OptiMask, a Python package designed to simplify the process of removing NaN (Not-a-Number) data from matrices while efficiently computing the largest (and non necessarily contiguous) submatrix without NaN. OptiMask focuses on providing immediate results, seamless compatibility with both Numpy arrays and Pandas DataFrames, and a user-friendly experience.\n",
    "\n",
    "Highlights:\n",
    "\n",
    "- NaN Data Removal: OptiMask streamlines the removal of NaN data from matrices, ensuring data integrity.\n",
    "- Largest Submatrix: OptiMask computes the largest submatrix without NaN, enhancing data analysis accuracy.\n",
    "- Swift Computation: With its fast computation, OptiMask swiftly generates results without unnecessary delays.\n",
    "- Numpy and Pandas: Whether you use Numpy or Pandas, OptiMask adapts to your preferred data structure.\n",
    "- Simplicity: OptiMask boasts a straightforward Python interface, making it easy for users of all levels to navigate.\n",
    "\n",
    "\n",
    "Cyril Joly"
   ]
  },
  {
   "cell_type": "code",
   "execution_count": 1,
   "id": "db88817b-0efc-4e39-92ac-a2dd76e3e33c",
   "metadata": {},
   "outputs": [],
   "source": [
    "import geopandas as gpd\n",
    "import matplotlib.pyplot as plt\n",
    "import numpy as np\n",
    "from optimask import OptiMask\n",
    "from shapely import box"
   ]
  },
  {
   "cell_type": "code",
   "execution_count": 2,
   "id": "5c08dc63-a785-45bc-8852-3fcb47e25a08",
   "metadata": {},
   "outputs": [],
   "source": [
    "def plot(data, figsize=None, title=None, show=True):\n",
    "    cmap = plt.get_cmap(\"Spectral_r\")\n",
    "    cmap.set_bad('grey')\n",
    "    if figsize is not None:\n",
    "        plt.figure(figsize=figsize)\n",
    "    plt.pcolormesh(data, cmap=cmap)\n",
    "    plt.gca().axis('off')\n",
    "    plt.gca().set_aspect('equal')\n",
    "    plt.title(title)\n",
    "    if show:\n",
    "        plt.show()\n",
    "\n",
    "\n",
    "def generate_random(m, n, ratio):\n",
    "    arr = np.zeros((m, n))\n",
    "    nan_count = int(ratio * m * n)\n",
    "    indices = np.random.choice(m * n, nan_count, replace=False)\n",
    "    arr.flat[indices] = np.nan\n",
    "    return arr"
   ]
  },
  {
   "cell_type": "markdown",
   "id": "9a3fa44f-72ff-428d-9bdb-733c96a6a87d",
   "metadata": {},
   "source": [
    "# 1. Understanding the problem at hand\n",
    "\n",
    "In the context of a matrix containing a lone NaN cell, the central challenge emerges: determining whether to eliminate the corresponding row or column. This decision is readily resolved by examining the matrix's shape. Specifically, if the matrix has a greater number of rows than columns, the optimal approach involves removing the associated row. Conversely, when the matrix has more columns than rows, the most effective course of action is to eliminate the corresponding column:"
   ]
  },
  {
   "cell_type": "code",
   "execution_count": 3,
   "id": "b75d26bc-dfe3-4782-ada3-e11b62851055",
   "metadata": {},
   "outputs": [
    {
     "data": {
      "image/png": "[encoded data removed]",
      "text/plain": [
       "<Figure size 640x480 with 3 Axes>"
      ]
     },
     "metadata": {},
     "output_type": "display_data"
    }
   ],
   "source": [
    "x = np.zeros((12, 5))\n",
    "x[7, 1] = np.nan\n",
    "\n",
    "x1 = x.copy()\n",
    "x1[7] += 1\n",
    "\n",
    "x2 = x.copy()\n",
    "x2[:, 1] += 1\n",
    "\n",
    "plt.figure()\n",
    "plt.subplot(1, 3, 1)\n",
    "plot(x, show=False, title='original data')\n",
    "plt.subplot(1, 3, 2)\n",
    "plot(x1, show=False, title='remove row')\n",
    "plt.subplot(1, 3, 3)\n",
    "plot(x2, show=False, title='remove column')\n",
    "plt.show()"
   ]
  },
  {
   "cell_type": "markdown",
   "id": "f5d4adec-84ba-49a9-849c-463b3aa8fe12",
   "metadata": {},
   "source": [
    "Eliminating the highlighted row yields the most extensive submatrix devoid of NaN. This solution remains optimal even when additional NaN values are present within the same row:"
   ]
  },
  {
   "cell_type": "code",
   "execution_count": 4,
   "id": "806bbc8c-e996-4a19-9b2e-e56c15b89e1a",
   "metadata": {},
   "outputs": [
    {
     "data": {
      "image/png": "[encoded data removed]",
      "text/plain": [
       "<Figure size 640x480 with 3 Axes>"
      ]
     },
     "metadata": {},
     "output_type": "display_data"
    }
   ],
   "source": [
    "x = np.zeros((12, 5))\n",
    "x[7, [1, 3]] = np.nan\n",
    "\n",
    "x1 = x.copy()\n",
    "x1[7] += 1\n",
    "\n",
    "x2 = x.copy()\n",
    "x2[:, [1, 3]] += 1\n",
    "\n",
    "plt.figure()\n",
    "plt.subplot(1, 3, 1)\n",
    "plot(x, show=False, title='original data')\n",
    "plt.subplot(1, 3, 2)\n",
    "plot(x1, show=False, title='remove row')\n",
    "plt.subplot(1, 3, 3)\n",
    "plot(x2, show=False, title='remove columns')\n",
    "plt.show()"
   ]
  },
  {
   "cell_type": "markdown",
   "id": "e234662b-369d-4ed6-8381-c683af42a39a",
   "metadata": {},
   "source": [
    "But what about more complex cases ? "
   ]
  },
  {
   "cell_type": "code",
   "execution_count": 10,
   "id": "f10ebdab-c8a9-423d-8715-eb071a54a631",
   "metadata": {},
   "outputs": [
    {
     "data": {
      "image/png": "[encoded data removed]",
      "text/plain": [
       "<Figure size 640x480 with 1 Axes>"
      ]
     },
     "metadata": {},
     "output_type": "display_data"
    }
   ],
   "source": [
    "m, n = 75, 75\n",
    "ratio = 0.03\n",
    "x = generate_random(m, n, ratio)\n",
    "\n",
    "plot(x)"
   ]
  },
  {
   "cell_type": "markdown",
   "id": "b094752a-343c-477c-b0b1-13fbc2707da6",
   "metadata": {},
   "source": [
    "## 2. The Problem from an Optimization Perspective\n",
    "\n",
    "This problem can be formalized as a binary optimization problem in two ways.\n",
    "\n",
    "### 2.1. Linear programming\n",
    "\n",
    "Source : [this mathematica.stackexchange answer](https://mathematica.stackexchange.com/a/108513/92680), posted by [unlikely](https://mathematica.stackexchange.com/users/16267/unlikely).\n",
    "\n",
    "Given:\n",
    "\n",
    "- Matrix $A$ of shape $m \\times n$ and elements $a_{i,j}$\n",
    "- The goal is to determine the values of variables $(i \\in [1~..~m]$, $j \\in [1~..~n])$:\n",
    "  - $e_{i,j} \\in \\{0,1\\}$ (1 if element $(i,j)$ should be removed, 0 otherwise)\n",
    "  - $r_i \\in \\{0,1\\}$ (1 if row $i$ should be removed, 0 otherwise)\n",
    "  - $c_j \\in \\{0,1\\}$ (1 if column $j$ should be removed, 0 otherwise)\n",
    "\n",
    "\n",
    "\n",
    "Subject to:\n",
    "\n",
    "\n",
    "- $e_{i,j} = 1$ for every $(i,j)$ such that $a_{i,j}$ is a NaN\n",
    "- $r_i + c_j \\geq e_{i,j}$, meaning if $e_{i,j} = 1$ then either $r_i = 1$ or $c_j = 1$, or both\n",
    "- $e_{i,j} \\geq r_i$, indicating if $r_i = 1$ then $e_{i,j}$ must be 1\n",
    "- $e_{i,j} \\geq c_j$, indicating if $c_j = 1$ then $e_{i,j}$ must be 1\n",
    "\n",
    "The objective is to minimize the total number of remaining cells:\n",
    "\n",
    "$$\\sum_{i=1}^{m} \\sum_{j=1}^{n} e_{i,j}$$\n",
    "\n",
    "The optimal values of $r_i$ and $c_j$ provide us with the specific rows and columns to remove, ensuring that the remaining matrix is efficiently processed and devoid of NaN values. This problem can be solved in Python using the usual tools of linear programming, such as combining Pyomo with GLPK. Its disadvantage is being relatively expensive, as for an $m \\times n$ matrix, more than $m \\times n$ (binary) variables are used.\n",
    "\n",
    "### 2.2. Quadratic Programming\n",
    "\n",
    "By employing the variables mentioned earlier, an alternate perspective of the problem involves maximizing $$(m-\\sum_{i=1}^m r_i) \\times (n-\\sum_{i=1}^n c_j)$$\n",
    "while considering:\n",
    "- $r_i + c_j \\ge 1$ for each $(i,j)$ where $a_{i,j}$ is a NaN.\n",
    "\n",
    "Although the number of variables is reduced, the optimization problem becomes more challenging."
   ]
  },
  {
   "cell_type": "markdown",
   "id": "bbee245c-368e-484e-911d-282e3c1ae14d",
   "metadata": {},
   "source": [
    "# 3. OptiMask's algorithm\n",
    "\n",
    "We propose an algorithm for computing the optimal set of rows and columns to remove in order to retrieve the largest submatrix without containing any NaN values. Its convergence has not been proven yet.\n",
    "\n",
    "The idea is to successively compute row and column permutations until a specific criterion is met. The criterion involves the emergence of a contiguous, well-ordered NaN frontier, which bears similarities to a Pareto efficiency frontier. Subsequently, the problem simplifies to the computation of the largest contiguous rectangle, which can be computed directly. The stored row and column permutations finally enable the identification of the rows and columns to be removed."
   ]
  },
  {
   "cell_type": "code",
   "execution_count": 16,
   "id": "470a79dd-5063-438d-b87f-c686d017b0ae",
   "metadata": {},
   "outputs": [
    {
     "data": {
      "image/png": "[encoded data removed]",
      "text/plain": [
       "<Figure size 640x480 with 1 Axes>"
      ]
     },
     "metadata": {},
     "output_type": "display_data"
    }
   ],
   "source": [
    "plot(x, title='inputed data')"
   ]
  },
  {
   "cell_type": "markdown",
   "id": "be99c46e-5101-4e6e-a558-8784389f1b12",
   "metadata": {},
   "source": [
    "A look at the computation of column and row permutations resulting in a so-called 'Pareto-ordered' mask (valid data is in purple, and the locations of NaN values are in red). A mask is considered Pareto-ordered if:\n",
    "\n",
    "- When traversing the columns from left to right, the indices of the upper red cells are decreasing.\n",
    "- When traversing the rows from bottom to top, the indices of the leftmost red cells are decreasing."
   ]
  },
  {
   "cell_type": "code",
   "execution_count": 12,
   "id": "8c47b191-a2a2-4935-91a9-cb7e4fa78c63",
   "metadata": {},
   "outputs": [
    {
     "data": {
      "image/png": "[encoded data removed]",
      "text/plain": [
       "<Figure size 640x480 with 1 Axes>"
      ]
     },
     "metadata": {},
     "output_type": "display_data"
    },
    {
     "data": {
      "image/png": "[encoded data removed]",
      "text/plain": [
       "<Figure size 640x480 with 1 Axes>"
      ]
     },
     "metadata": {},
     "output_type": "display_data"
    },
    {
     "data": {
      "image/png": "[encoded data removed]",
      "text/plain": [
       "<Figure size 640x480 with 1 Axes>"
      ]
     },
     "metadata": {},
     "output_type": "display_data"
    }
   ],
   "source": [
    "xp = np.isnan(x)\n",
    "\n",
    "step = 0\n",
    "while not OptiMask._is_pareto_ordered(xp):\n",
    "    axis = (step % 2)\n",
    "    xp, _ = OptiMask._process_step(xp, axis=axis)\n",
    "    plot(xp, title=f'step {step+1}')\n",
    "    step += 1"
   ]
  },
  {
   "cell_type": "markdown",
   "id": "fa5f4920-d28f-4855-903b-1d4cce9d763b",
   "metadata": {},
   "source": [
    "The compuatation of the largest rectangle without red cells is now direct"
   ]
  },
  {
   "cell_type": "code",
   "execution_count": 13,
   "id": "a7f8573d-4ebe-49e7-b85f-70aaff58375e",
   "metadata": {},
   "outputs": [
    {
     "data": {
      "image/png": "[encoded data removed]",
      "text/plain": [
       "<Figure size 640x480 with 1 Axes>"
      ]
     },
     "metadata": {},
     "output_type": "display_data"
    }
   ],
   "source": [
    "i0, j0 = OptiMask._get_largest_rectangle(xp)\n",
    "\n",
    "r = gpd.GeoSeries([box(i0, j0, n, m)])\n",
    "\n",
    "plot(xp, show=False)\n",
    "r.plot(ax=plt.gca(), fc='none', linestyle='dashed')\n",
    "plt.show()"
   ]
  },
  {
   "cell_type": "markdown",
   "id": "006855bc-798c-4384-bd98-ce6c71ec50a0",
   "metadata": {},
   "source": [
    "# Optimask `solve`"
   ]
  },
  {
   "cell_type": "code",
   "execution_count": 14,
   "id": "fcc76e57-3435-4976-a32a-bcea077249c3",
   "metadata": {},
   "outputs": [
    {
     "data": {
      "image/png": "[encoded data removed]",
      "text/plain": [
       "<Figure size 640x480 with 1 Axes>"
      ]
     },
     "metadata": {},
     "output_type": "display_data"
    }
   ],
   "source": [
    "rows, cols = OptiMask.solve(x)\n",
    "\n",
    "x_sub = x.copy()\n",
    "x_sub[rows] += 1\n",
    "x_sub[:, cols] += 1\n",
    "plot(x_sub)"
   ]
  },
  {
   "cell_type": "code",
   "execution_count": null,
   "id": "86dc8f8d-da4a-45e0-93d6-b9a87d11a67d",
   "metadata": {},
   "outputs": [],
   "source": []
  },
  {
   "cell_type": "code",
   "execution_count": null,
   "id": "a9dafe08-fe5f-43e7-9c03-da015a198d6e",
   "metadata": {},
   "outputs": [],
   "source": []
  }
 ],
 "metadata": {
  "kernelspec": {
   "display_name": "Python 3 (ipykernel)",
   "language": "python",
   "name": "python3"
  },
  "language_info": {
   "codemirror_mode": {
    "name": "ipython",
    "version": 3
   },
   "file_extension": ".py",
   "mimetype": "text/x-python",
   "name": "python",
   "nbconvert_exporter": "python",
   "pygments_lexer": "ipython3",
   "version": "3.10.12"
  }
 },
 "nbformat": 4,
 "nbformat_minor": 5
}
