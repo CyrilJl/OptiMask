{
 "cells": [
  {
   "cell_type": "markdown",
   "id": "a04de230-c023-4b21-b44e-814355e0f459",
   "metadata": {},
   "source": [
    "# Mathematical Insights"
   ]
  },
  {
   "cell_type": "code",
   "execution_count": 1,
   "id": "db88817b-0efc-4e39-92ac-a2dd76e3e33c",
   "metadata": {},
   "outputs": [],
   "source": [
    "import matplotlib.pyplot as plt\n",
    "import numpy as np\n",
    "import pandas as pd\n",
    "from optimask import OptiMask"
   ]
  },
  {
   "cell_type": "code",
   "execution_count": 2,
   "id": "5c08dc63-a785-45bc-8852-3fcb47e25a08",
   "metadata": {},
   "outputs": [],
   "source": [
    "def plot(data, rows_to_keep=None, cols_to_keep=None, rows_to_remove=None, cols_to_remove=None, figsize=None, title=None, xticks=None, yticks=None, show=True):\n",
    "    cmap = plt.get_cmap(\"coolwarm\")\n",
    "    cmap.set_bad('grey')\n",
    "    x = data.copy()\n",
    "    m, n = data.shape\n",
    "\n",
    "    if rows_to_keep is not None:\n",
    "        x[[i for i in range(m) if i not in rows_to_keep]] += 1\n",
    "    if cols_to_keep is not None:\n",
    "        x[:, [j for j in range(n) if j not in cols_to_keep]] += 1\n",
    "    if rows_to_remove is not None:\n",
    "        x[rows_to_remove] += 1\n",
    "    if cols_to_remove is not None:\n",
    "        x[:, cols_to_remove] += 1\n",
    "\n",
    "    if figsize:\n",
    "        plt.figure(figsize=figsize)\n",
    "\n",
    "    plt.pcolormesh(np.clip(x, 0, 1), cmap=cmap)\n",
    "    plt.gca().set_aspect('equal')\n",
    "    plt.title(title)\n",
    "\n",
    "    if xticks is not None:\n",
    "        plt.xticks(np.arange(n)+0.5, xticks, rotation=90, size='x-small')\n",
    "    if yticks is not None:\n",
    "        plt.yticks(np.arange(m)+0.5, yticks, size='x-small')\n",
    "    if (xticks is None) and (xticks is None):\n",
    "        plt.gca().axis('off')\n",
    "\n",
    "    if show:\n",
    "        plt.show()\n",
    "\n",
    "\n",
    "def generate_random(m, n, ratio):\n",
    "    \"\"\"Missing at random arrays\"\"\"\n",
    "    arr = np.zeros((m, n))\n",
    "    nan_count = int(ratio * m * n)\n",
    "    indices = np.random.choice(m * n, nan_count, replace=False)\n",
    "    arr.flat[indices] = np.nan\n",
    "    return arr"
   ]
  },
  {
   "cell_type": "markdown",
   "id": "8fdb7efd-cc5d-441d-8b9c-cd916c742e29",
   "metadata": {},
   "source": [
    "## 1. OptiMask API\n",
    "\n",
    "OptiMask is easy to use. It can be applied to NumPy arrays or pandas DataFrames, returning a subarray or subframe without NaN or the retained rows/columns. Since multiple optimizations are carried out starting from random states, a `random_state` parameter is provided for reproducibility."
   ]
  },
  {
   "cell_type": "code",
   "execution_count": 3,
   "id": "751c2512-f75e-4776-bf33-b319e8450d34",
   "metadata": {},
   "outputs": [
    {
     "data": {
      "image/png": "[encoded data removed]",
      "text/plain": [
       "<Figure size 640x480 with 1 Axes>"
      ]
     },
     "metadata": {},
     "output_type": "display_data"
    }
   ],
   "source": [
    "x = generate_random(m=50, n=50, ratio=0.025)\n",
    "plot(x)"
   ]
  },
  {
   "cell_type": "code",
   "execution_count": 4,
   "id": "4f2724cc-15a5-4ee9-87e0-9143e0ffd5d8",
   "metadata": {},
   "outputs": [
    {
     "name": "stdout",
     "output_type": "stream",
     "text": [
      "CPU times: total: 0 ns\n",
      "Wall time: 0 ns\n"
     ]
    },
    {
     "data": {
      "text/plain": [
       "(31, 36, False)"
      ]
     },
     "execution_count": 4,
     "metadata": {},
     "output_type": "execute_result"
    }
   ],
   "source": [
    "%time rows, cols = OptiMask(random_state=0).solve(x)\n",
    "len(rows), len(cols), np.any(np.isnan(x[rows][:, cols]))"
   ]
  },
  {
   "cell_type": "markdown",
   "id": "c085abd8-7f2a-47ab-a95f-a05f9161c0db",
   "metadata": {},
   "source": [
    "In red the removed rows and columns, in blue the remaining submatrix without NaN:"
   ]
  },
  {
   "cell_type": "code",
   "execution_count": 5,
   "id": "f1e4d5bb-7034-4234-b360-a814568febcb",
   "metadata": {},
   "outputs": [
    {
     "data": {
      "image/png": "[encoded data removed]",
      "text/plain": [
       "<Figure size 640x480 with 1 Axes>"
      ]
     },
     "metadata": {},
     "output_type": "display_data"
    }
   ],
   "source": [
    "plot(x, rows_to_keep=rows, cols_to_keep=cols)"
   ]
  },
  {
   "cell_type": "markdown",
   "id": "e09fdf16-6f03-4a03-b530-d1f9a3a4c9b3",
   "metadata": {},
   "source": [
    "OptiMask can directly return the submatrix:"
   ]
  },
  {
   "cell_type": "code",
   "execution_count": 6,
   "id": "e6ad708a-a653-47b2-94c4-69d49a7923c4",
   "metadata": {},
   "outputs": [
    {
     "data": {
      "text/plain": [
       "((31, 36), False)"
      ]
     },
     "execution_count": 6,
     "metadata": {},
     "output_type": "execute_result"
    }
   ],
   "source": [
    "xt = OptiMask(random_state=0).solve(x, return_data=True)\n",
    "xt.shape, np.any(np.isnan(xt))"
   ]
  },
  {
   "cell_type": "markdown",
   "id": "e7db7991-3333-491a-ba0f-c80045e861d0",
   "metadata": {},
   "source": [
    "OptiMask offers a verbose mode to inspect the results of the intermediate optimizations:"
   ]
  },
  {
   "cell_type": "code",
   "execution_count": 7,
   "id": "57527aa0-b964-43d6-8547-4cbc5a62135a",
   "metadata": {},
   "outputs": [
    {
     "name": "stderr",
     "output_type": "stream",
     "text": [
      "\tTrial 1 : submatrix of size 31x36 (1116 elements) found.\n",
      "\tTrial 2 : submatrix of size 32x32 (1024 elements) found.\n",
      "\tTrial 3 : submatrix of size 30x34 (1020 elements) found.\n",
      "\tTrial 4 : submatrix of size 35x31 (1085 elements) found.\n",
      "\tTrial 5 : submatrix of size 30x34 (1020 elements) found.\n",
      "Result: the largest submatrix found is of size 31x36 (1116 elements) found.\n"
     ]
    },
    {
     "data": {
      "text/plain": [
       "((31, 36), False)"
      ]
     },
     "execution_count": 7,
     "metadata": {},
     "output_type": "execute_result"
    }
   ],
   "source": [
    "xt = OptiMask(random_state=0, verbose=True).solve(x, return_data=True)\n",
    "xt.shape, np.any(np.isnan(xt))"
   ]
  },
  {
   "cell_type": "markdown",
   "id": "c1ecbfd1-9732-4f8e-b5b8-dc8640f20d5f",
   "metadata": {},
   "source": [
    "OptiMask provides a n_tries parameter, which enhances the probability of finding a better solution:"
   ]
  },
  {
   "cell_type": "code",
   "execution_count": 8,
   "id": "ff3e696f-e5bc-43f8-aec0-b85c4d59eea6",
   "metadata": {},
   "outputs": [
    {
     "name": "stdout",
     "output_type": "stream",
     "text": [
      "CPU times: total: 15.6 ms\n",
      "Wall time: 3 ms\n"
     ]
    },
    {
     "name": "stderr",
     "output_type": "stream",
     "text": [
      "\tTrial 6 : submatrix of size 29x37 (1073 elements) found.\n",
      "\tTrial 7 : submatrix of size 33x33 (1089 elements) found.\n",
      "\tTrial 8 : submatrix of size 33x31 (1023 elements) found.\n",
      "\tTrial 9 : submatrix of size 29x35 (1015 elements) found.\n",
      "\tTrial 10 : submatrix of size 32x32 (1024 elements) found.\n",
      "\tTrial 11 : submatrix of size 27x38 (1026 elements) found.\n",
      "\tTrial 12 : submatrix of size 27x39 (1053 elements) found.\n",
      "\tTrial 13 : submatrix of size 33x31 (1023 elements) found.\n",
      "\tTrial 14 : submatrix of size 27x38 (1026 elements) found.\n",
      "\tTrial 15 : submatrix of size 32x35 (1120 elements) found.\n",
      "\tTrial 16 : submatrix of size 35x29 (1015 elements) found.\n",
      "\tTrial 17 : submatrix of size 32x32 (1024 elements) found.\n",
      "\tTrial 18 : submatrix of size 30x36 (1080 elements) found.\n",
      "\tTrial 19 : submatrix of size 32x32 (1024 elements) found.\n",
      "\tTrial 20 : submatrix of size 30x36 (1080 elements) found.\n",
      "\tTrial 21 : submatrix of size 29x37 (1073 elements) found.\n",
      "\tTrial 22 : submatrix of size 28x37 (1036 elements) found.\n",
      "\tTrial 23 : submatrix of size 32x34 (1088 elements) found.\n",
      "\tTrial 24 : submatrix of size 26x40 (1040 elements) found.\n",
      "\tTrial 25 : submatrix of size 31x34 (1054 elements) found.\n",
      "\tTrial 26 : submatrix of size 34x29 (986 elements) found.\n",
      "\tTrial 27 : submatrix of size 33x34 (1122 elements) found.\n",
      "\tTrial 28 : submatrix of size 35x31 (1085 elements) found.\n",
      "\tTrial 29 : submatrix of size 29x37 (1073 elements) found.\n",
      "\tTrial 30 : submatrix of size 24x42 (1008 elements) found.\n",
      "\tTrial 31 : submatrix of size 25x40 (1000 elements) found.\n",
      "\tTrial 32 : submatrix of size 32x32 (1024 elements) found.\n",
      "\tTrial 33 : submatrix of size 32x33 (1056 elements) found.\n",
      "\tTrial 34 : submatrix of size 34x30 (1020 elements) found.\n",
      "\tTrial 35 : submatrix of size 32x32 (1024 elements) found.\n",
      "Result: the largest submatrix found is of size 33x34 (1122 elements) found.\n"
     ]
    },
    {
     "data": {
      "text/plain": [
       "((33, 34), False)"
      ]
     },
     "execution_count": 8,
     "metadata": {},
     "output_type": "execute_result"
    }
   ],
   "source": [
    "%time xt = OptiMask(n_tries=35, random_state=0, verbose=True).solve(x, return_data=True)\n",
    "xt.shape, np.any(np.isnan(xt))"
   ]
  },
  {
   "cell_type": "markdown",
   "id": "fdf21aca-f7e3-4730-98ac-f8c0bd4ba565",
   "metadata": {},
   "source": [
    "OptiMask can also handle pandas DataFrames:"
   ]
  },
  {
   "cell_type": "code",
   "execution_count": 9,
   "id": "50b1ad0a-54ea-4ec8-b40f-e7c223dd29f9",
   "metadata": {},
   "outputs": [
    {
     "data": {
      "text/html": [
       "<div>\n",
       "<style scoped>\n",
       "    .dataframe tbody tr th:only-of-type {\n",
       "        vertical-align: middle;\n",
       "    }\n",
       "\n",
       "    .dataframe tbody tr th {\n",
       "        vertical-align: top;\n",
       "    }\n",
       "\n",
       "    .dataframe thead th {\n",
       "        text-align: right;\n",
       "    }\n",
       "</style>\n",
       "<table border=\"1\" class=\"dataframe\">\n",
       "  <thead>\n",
       "    <tr style=\"text-align: right;\">\n",
       "      <th></th>\n",
       "      <th>feature 0</th>\n",
       "      <th>feature 1</th>\n",
       "      <th>feature 2</th>\n",
       "      <th>feature 3</th>\n",
       "      <th>feature 4</th>\n",
       "      <th>feature 5</th>\n",
       "      <th>feature 6</th>\n",
       "      <th>feature 7</th>\n",
       "      <th>feature 8</th>\n",
       "      <th>feature 9</th>\n",
       "      <th>...</th>\n",
       "      <th>feature 40</th>\n",
       "      <th>feature 41</th>\n",
       "      <th>feature 42</th>\n",
       "      <th>feature 43</th>\n",
       "      <th>feature 44</th>\n",
       "      <th>feature 45</th>\n",
       "      <th>feature 46</th>\n",
       "      <th>feature 47</th>\n",
       "      <th>feature 48</th>\n",
       "      <th>feature 49</th>\n",
       "    </tr>\n",
       "  </thead>\n",
       "  <tbody>\n",
       "    <tr>\n",
       "      <th>26</th>\n",
       "      <td>0.0</td>\n",
       "      <td>0.0</td>\n",
       "      <td>0.0</td>\n",
       "      <td>0.0</td>\n",
       "      <td>0.0</td>\n",
       "      <td>NaN</td>\n",
       "      <td>0.0</td>\n",
       "      <td>0.0</td>\n",
       "      <td>0.0</td>\n",
       "      <td>0.0</td>\n",
       "      <td>...</td>\n",
       "      <td>0.0</td>\n",
       "      <td>0.0</td>\n",
       "      <td>0.0</td>\n",
       "      <td>0.0</td>\n",
       "      <td>0.0</td>\n",
       "      <td>0.0</td>\n",
       "      <td>0.0</td>\n",
       "      <td>0.0</td>\n",
       "      <td>0.0</td>\n",
       "      <td>0.0</td>\n",
       "    </tr>\n",
       "    <tr>\n",
       "      <th>38</th>\n",
       "      <td>0.0</td>\n",
       "      <td>0.0</td>\n",
       "      <td>0.0</td>\n",
       "      <td>0.0</td>\n",
       "      <td>0.0</td>\n",
       "      <td>0.0</td>\n",
       "      <td>NaN</td>\n",
       "      <td>0.0</td>\n",
       "      <td>0.0</td>\n",
       "      <td>0.0</td>\n",
       "      <td>...</td>\n",
       "      <td>0.0</td>\n",
       "      <td>0.0</td>\n",
       "      <td>0.0</td>\n",
       "      <td>0.0</td>\n",
       "      <td>0.0</td>\n",
       "      <td>0.0</td>\n",
       "      <td>0.0</td>\n",
       "      <td>0.0</td>\n",
       "      <td>0.0</td>\n",
       "      <td>0.0</td>\n",
       "    </tr>\n",
       "    <tr>\n",
       "      <th>25</th>\n",
       "      <td>0.0</td>\n",
       "      <td>0.0</td>\n",
       "      <td>0.0</td>\n",
       "      <td>0.0</td>\n",
       "      <td>0.0</td>\n",
       "      <td>0.0</td>\n",
       "      <td>0.0</td>\n",
       "      <td>0.0</td>\n",
       "      <td>0.0</td>\n",
       "      <td>0.0</td>\n",
       "      <td>...</td>\n",
       "      <td>0.0</td>\n",
       "      <td>0.0</td>\n",
       "      <td>0.0</td>\n",
       "      <td>0.0</td>\n",
       "      <td>0.0</td>\n",
       "      <td>0.0</td>\n",
       "      <td>0.0</td>\n",
       "      <td>0.0</td>\n",
       "      <td>0.0</td>\n",
       "      <td>0.0</td>\n",
       "    </tr>\n",
       "  </tbody>\n",
       "</table>\n",
       "<p>3 rows × 50 columns</p>\n",
       "</div>"
      ],
      "text/plain": [
       "    feature 0  feature 1  feature 2  feature 3  feature 4  feature 5  \\\n",
       "26        0.0        0.0        0.0        0.0        0.0        NaN   \n",
       "38        0.0        0.0        0.0        0.0        0.0        0.0   \n",
       "25        0.0        0.0        0.0        0.0        0.0        0.0   \n",
       "\n",
       "    feature 6  feature 7  feature 8  feature 9  ...  feature 40  feature 41  \\\n",
       "26        0.0        0.0        0.0        0.0  ...         0.0         0.0   \n",
       "38        NaN        0.0        0.0        0.0  ...         0.0         0.0   \n",
       "25        0.0        0.0        0.0        0.0  ...         0.0         0.0   \n",
       "\n",
       "    feature 42  feature 43  feature 44  feature 45  feature 46  feature 47  \\\n",
       "26         0.0         0.0         0.0         0.0         0.0         0.0   \n",
       "38         0.0         0.0         0.0         0.0         0.0         0.0   \n",
       "25         0.0         0.0         0.0         0.0         0.0         0.0   \n",
       "\n",
       "    feature 48  feature 49  \n",
       "26         0.0         0.0  \n",
       "38         0.0         0.0  \n",
       "25         0.0         0.0  \n",
       "\n",
       "[3 rows x 50 columns]"
      ]
     },
     "execution_count": 9,
     "metadata": {},
     "output_type": "execute_result"
    }
   ],
   "source": [
    "df = pd.DataFrame(x, columns=[f'feature {k}' for k in range(x.shape[1])])\n",
    "df.sample(3)"
   ]
  },
  {
   "cell_type": "code",
   "execution_count": 10,
   "id": "503f7094-94d9-495d-bd7f-34caadc16d5b",
   "metadata": {},
   "outputs": [
    {
     "name": "stdout",
     "output_type": "stream",
     "text": [
      "<class 'pandas.core.frame.DataFrame'>\n",
      "RangeIndex: 50 entries, 0 to 49\n",
      "Data columns (total 50 columns):\n",
      " #   Column      Non-Null Count  Dtype  \n",
      "---  ------      --------------  -----  \n",
      " 0   feature 0   49 non-null     float64\n",
      " 1   feature 1   48 non-null     float64\n",
      " 2   feature 2   47 non-null     float64\n",
      " 3   feature 3   50 non-null     float64\n",
      " 4   feature 4   49 non-null     float64\n",
      " 5   feature 5   48 non-null     float64\n",
      " 6   feature 6   49 non-null     float64\n",
      " 7   feature 7   49 non-null     float64\n",
      " 8   feature 8   49 non-null     float64\n",
      " 9   feature 9   49 non-null     float64\n",
      " 10  feature 10  46 non-null     float64\n",
      " 11  feature 11  49 non-null     float64\n",
      " 12  feature 12  50 non-null     float64\n",
      " 13  feature 13  48 non-null     float64\n",
      " 14  feature 14  49 non-null     float64\n",
      " 15  feature 15  50 non-null     float64\n",
      " 16  feature 16  48 non-null     float64\n",
      " 17  feature 17  49 non-null     float64\n",
      " 18  feature 18  48 non-null     float64\n",
      " 19  feature 19  48 non-null     float64\n",
      " 20  feature 20  48 non-null     float64\n",
      " 21  feature 21  49 non-null     float64\n",
      " 22  feature 22  50 non-null     float64\n",
      " 23  feature 23  49 non-null     float64\n",
      " 24  feature 24  49 non-null     float64\n",
      " 25  feature 25  49 non-null     float64\n",
      " 26  feature 26  50 non-null     float64\n",
      " 27  feature 27  48 non-null     float64\n",
      " 28  feature 28  49 non-null     float64\n",
      " 29  feature 29  50 non-null     float64\n",
      " 30  feature 30  50 non-null     float64\n",
      " 31  feature 31  46 non-null     float64\n",
      " 32  feature 32  48 non-null     float64\n",
      " 33  feature 33  49 non-null     float64\n",
      " 34  feature 34  50 non-null     float64\n",
      " 35  feature 35  49 non-null     float64\n",
      " 36  feature 36  49 non-null     float64\n",
      " 37  feature 37  50 non-null     float64\n",
      " 38  feature 38  49 non-null     float64\n",
      " 39  feature 39  50 non-null     float64\n",
      " 40  feature 40  46 non-null     float64\n",
      " 41  feature 41  49 non-null     float64\n",
      " 42  feature 42  48 non-null     float64\n",
      " 43  feature 43  48 non-null     float64\n",
      " 44  feature 44  49 non-null     float64\n",
      " 45  feature 45  50 non-null     float64\n",
      " 46  feature 46  48 non-null     float64\n",
      " 47  feature 47  48 non-null     float64\n",
      " 48  feature 48  49 non-null     float64\n",
      " 49  feature 49  50 non-null     float64\n",
      "dtypes: float64(50)\n",
      "memory usage: 19.7 KB\n"
     ]
    }
   ],
   "source": [
    "df.info()"
   ]
  },
  {
   "cell_type": "code",
   "execution_count": 11,
   "id": "2765fcb1-c1dc-4b2b-ae62-0c2daab6185e",
   "metadata": {},
   "outputs": [
    {
     "name": "stdout",
     "output_type": "stream",
     "text": [
      "<class 'pandas.core.frame.DataFrame'>\n",
      "Index: 33 entries, 0 to 49\n",
      "Data columns (total 34 columns):\n",
      " #   Column      Non-Null Count  Dtype  \n",
      "---  ------      --------------  -----  \n",
      " 0   feature 0   33 non-null     float64\n",
      " 1   feature 3   33 non-null     float64\n",
      " 2   feature 4   33 non-null     float64\n",
      " 3   feature 8   33 non-null     float64\n",
      " 4   feature 9   33 non-null     float64\n",
      " 5   feature 10  33 non-null     float64\n",
      " 6   feature 11  33 non-null     float64\n",
      " 7   feature 12  33 non-null     float64\n",
      " 8   feature 14  33 non-null     float64\n",
      " 9   feature 15  33 non-null     float64\n",
      " 10  feature 17  33 non-null     float64\n",
      " 11  feature 19  33 non-null     float64\n",
      " 12  feature 20  33 non-null     float64\n",
      " 13  feature 21  33 non-null     float64\n",
      " 14  feature 22  33 non-null     float64\n",
      " 15  feature 23  33 non-null     float64\n",
      " 16  feature 24  33 non-null     float64\n",
      " 17  feature 25  33 non-null     float64\n",
      " 18  feature 26  33 non-null     float64\n",
      " 19  feature 27  33 non-null     float64\n",
      " 20  feature 28  33 non-null     float64\n",
      " 21  feature 29  33 non-null     float64\n",
      " 22  feature 30  33 non-null     float64\n",
      " 23  feature 34  33 non-null     float64\n",
      " 24  feature 36  33 non-null     float64\n",
      " 25  feature 37  33 non-null     float64\n",
      " 26  feature 38  33 non-null     float64\n",
      " 27  feature 39  33 non-null     float64\n",
      " 28  feature 42  33 non-null     float64\n",
      " 29  feature 43  33 non-null     float64\n",
      " 30  feature 44  33 non-null     float64\n",
      " 31  feature 45  33 non-null     float64\n",
      " 32  feature 47  33 non-null     float64\n",
      " 33  feature 49  33 non-null     float64\n",
      "dtypes: float64(34)\n",
      "memory usage: 9.0 KB\n"
     ]
    }
   ],
   "source": [
    "dft = OptiMask(n_tries=35).solve(df, return_data=True)\n",
    "dft.info()"
   ]
  },
  {
   "cell_type": "code",
   "execution_count": 12,
   "id": "8c7ceb25-07f7-4278-bd0a-56b19f4d72ab",
   "metadata": {},
   "outputs": [
    {
     "data": {
      "text/plain": [
       "(Index([ 0,  2,  6,  8, 10, 11, 12, 14, 15, 16, 17, 18, 19, 20, 21, 22, 23, 24,\n",
       "        25, 26, 27, 28, 29, 31, 32, 33, 38, 39, 41, 44, 45, 48, 49],\n",
       "       dtype='int64'),\n",
       " Index(['feature 0', 'feature 3', 'feature 4', 'feature 7', 'feature 8',\n",
       "        'feature 9', 'feature 11', 'feature 12', 'feature 13', 'feature 15',\n",
       "        'feature 17', 'feature 19', 'feature 20', 'feature 21', 'feature 22',\n",
       "        'feature 24', 'feature 25', 'feature 26', 'feature 28', 'feature 29',\n",
       "        'feature 30', 'feature 33', 'feature 34', 'feature 36', 'feature 37',\n",
       "        'feature 38', 'feature 39', 'feature 42', 'feature 43', 'feature 44',\n",
       "        'feature 45', 'feature 46', 'feature 47', 'feature 49'],\n",
       "       dtype='object'))"
      ]
     },
     "execution_count": 12,
     "metadata": {},
     "output_type": "execute_result"
    }
   ],
   "source": [
    "index, columns = OptiMask(n_tries=35).solve(df)\n",
    "index, columns"
   ]
  },
  {
   "cell_type": "markdown",
   "id": "9a3fa44f-72ff-428d-9bdb-733c96a6a87d",
   "metadata": {},
   "source": [
    "## 2. Understanding the problem at hand\n",
    "\n",
    "In the context of a matrix containing a lone NaN cell, the central challenge emerges: determining whether to eliminate the corresponding row or column. This decision is readily resolved by examining the matrix's shape. Specifically, if the matrix has a greater number of rows than columns, the optimal approach involves removing the associated row. Conversely, when the matrix has more columns than rows, the most effective course of action is to eliminate the corresponding column:"
   ]
  },
  {
   "cell_type": "code",
   "execution_count": 13,
   "id": "b75d26bc-dfe3-4782-ada3-e11b62851055",
   "metadata": {},
   "outputs": [
    {
     "data": {
      "image/png": "[encoded data removed]",
      "text/plain": [
       "<Figure size 640x480 with 3 Axes>"
      ]
     },
     "metadata": {},
     "output_type": "display_data"
    }
   ],
   "source": [
    "x = np.zeros((12, 5))\n",
    "x[7, 1] = np.nan\n",
    "\n",
    "plt.figure()\n",
    "plt.subplot(1, 3, 1)\n",
    "plot(x, show=False, title='original data')\n",
    "plt.subplot(1, 3, 2)\n",
    "plot(x, rows_to_remove=[7], show=False, title='remove row')\n",
    "plt.subplot(1, 3, 3)\n",
    "plot(x, cols_to_remove=[1], show=False, title='remove column')\n",
    "plt.show()"
   ]
  },
  {
   "cell_type": "markdown",
   "id": "f5d4adec-84ba-49a9-849c-463b3aa8fe12",
   "metadata": {},
   "source": [
    "Eliminating the highlighted row yields the most extensive submatrix devoid of NaN. This solution remains optimal even when additional NaN values are present within the same row:"
   ]
  },
  {
   "cell_type": "code",
   "execution_count": 14,
   "id": "806bbc8c-e996-4a19-9b2e-e56c15b89e1a",
   "metadata": {},
   "outputs": [
    {
     "data": {
      "image/png": "[encoded data removed]",
      "text/plain": [
       "<Figure size 640x480 with 3 Axes>"
      ]
     },
     "metadata": {},
     "output_type": "display_data"
    }
   ],
   "source": [
    "x = np.zeros((12, 5))\n",
    "x[7, [1, 3]] = np.nan\n",
    "\n",
    "plt.figure()\n",
    "plt.subplot(1, 3, 1)\n",
    "plot(x, show=False, title='original data')\n",
    "plt.subplot(1, 3, 2)\n",
    "plot(x, rows_to_remove=[7], show=False, title='remove row')\n",
    "plt.subplot(1, 3, 3)\n",
    "plot(x, cols_to_remove=[1, 3], show=False, title='remove columns')\n",
    "plt.show()"
   ]
  },
  {
   "cell_type": "markdown",
   "id": "e234662b-369d-4ed6-8381-c683af42a39a",
   "metadata": {},
   "source": [
    "But what about more complex cases ? "
   ]
  },
  {
   "cell_type": "code",
   "execution_count": 15,
   "id": "f10ebdab-c8a9-423d-8715-eb071a54a631",
   "metadata": {},
   "outputs": [
    {
     "data": {
      "image/png": "[encoded data removed]",
      "text/plain": [
       "<Figure size 640x480 with 1 Axes>"
      ]
     },
     "metadata": {},
     "output_type": "display_data"
    }
   ],
   "source": [
    "m, n = 60, 20\n",
    "ratio = 0.03\n",
    "x = generate_random(m, n, ratio)\n",
    "\n",
    "plot(x)"
   ]
  },
  {
   "cell_type": "markdown",
   "id": "3a3b356c-ed8a-49c6-ac65-87e3c15e7447",
   "metadata": {},
   "source": [
    "## 3. The Problem from an Optimization Perspective\n",
    "\n",
    "This problem can be formalized as a binary optimization problem in two ways.\n",
    "\n",
    "### 3.1. Linear programming\n",
    "\n",
    "Source : [this mathematica.stackexchange answer](https://mathematica.stackexchange.com/a/108513/92680), posted by [unlikely](https://mathematica.stackexchange.com/users/16267/unlikely).\n",
    "\n",
    "Given:\n",
    "\n",
    "- Matrix $A$ of shape $m \\times n$ and elements $a_{i,j}$\n",
    "- The goal is to determine the values of variables $(i \\in [1~..~m]$, $j \\in [1~..~n])$:\n",
    "  - $e_{i,j} \\in \\{0,1\\}$ (1 if element $(i,j)$ should be removed, 0 otherwise)\n",
    "  - $r_i \\in \\{0,1\\}$ (1 if row $i$ should be removed, 0 otherwise)\n",
    "  - $c_j \\in \\{0,1\\}$ (1 if column $j$ should be removed, 0 otherwise)\n",
    "\n",
    "\n",
    "\n",
    "Subject to:\n",
    "\n",
    "\n",
    "- $e_{i,j} = 1$ for every $(i,j)$ such that $a_{i,j}$ is a NaN\n",
    "- $r_i + c_j \\geq e_{i,j}$, meaning if $e_{i,j} = 1$ then either $r_i = 1$ or $c_j = 1$, or both\n",
    "- $e_{i,j} \\geq r_i$, indicating if $r_i = 1$ then $e_{i,j}$ must be 1\n",
    "- $e_{i,j} \\geq c_j$, indicating if $c_j = 1$ then $e_{i,j}$ must be 1\n",
    "\n",
    "The objective is to minimize the total number of deleted cells:\n",
    "\n",
    "$$\\sum_{i=1}^{m} \\sum_{j=1}^{n} e_{i,j}$$\n",
    "\n",
    "The optimal values of $r_i$ and $c_j$ provide us with the specific rows and columns to remove, ensuring that the remaining matrix is efficiently processed and devoid of NaN values. This problem can be solved in Python using the usual tools of linear programming, such as combining Pyomo with GLPK. Its disadvantage is being relatively expensive, as for an $m \\times n$ matrix, more than $m \\times n$ (binary) variables are used."
   ]
  },
  {
   "cell_type": "code",
   "execution_count": 16,
   "id": "709485d3-9bb6-4626-8786-4bdeae4163ec",
   "metadata": {},
   "outputs": [
    {
     "name": "stdout",
     "output_type": "stream",
     "text": [
      "CPU times: total: 203 ms\n",
      "Wall time: 454 ms\n"
     ]
    },
    {
     "data": {
      "image/png": "[encoded data removed]",
      "text/plain": [
       "<Figure size 640x480 with 1 Axes>"
      ]
     },
     "metadata": {},
     "output_type": "display_data"
    },
    {
     "name": "stdout",
     "output_type": "stream",
     "text": [
      "The largest submatrix without NaN is of size 40x17 (680 elements among 1122)\n"
     ]
    }
   ],
   "source": [
    "from pyomo.environ import Binary, ConcreteModel, ConstraintList, Objective, SolverFactory, Var, minimize\n",
    "\n",
    "\n",
    "def linear_programming(matrix):\n",
    "    m, n = matrix.shape\n",
    "    model = ConcreteModel()\n",
    "\n",
    "    # Variables\n",
    "    model.e = Var(range(1, m + 1), range(1, n + 1), within=Binary)\n",
    "    model.r = Var(range(1, m + 1), within=Binary)\n",
    "    model.c = Var(range(1, n + 1), within=Binary)\n",
    "\n",
    "    # Objective\n",
    "    model.obj = Objective(expr=sum(model.e[i, j] for i in range(1, m + 1) for j in range(1, n + 1)), sense=minimize)\n",
    "\n",
    "    # Constraints\n",
    "    positions = [(i, j) for i in range(1, m + 1) for j in range(1, n + 1)]\n",
    "    nan_positions = [(i, j) for (i, j) in positions if np.isnan(matrix[i - 1, j - 1])]\n",
    "\n",
    "    model.nan_constraints = ConstraintList()\n",
    "    for i, j in nan_positions:\n",
    "        model.nan_constraints.add(model.e[i, j] == 1)\n",
    "\n",
    "    model.other_constraints = ConstraintList()\n",
    "    for i, j in positions:\n",
    "        model.other_constraints.add(model.r[i] + model.c[j] >= model.e[i, j])\n",
    "        model.other_constraints.add(model.e[i, j] >= model.r[i])\n",
    "        model.other_constraints.add(model.e[i, j] >= model.c[j])\n",
    "\n",
    "    # Solve the model\n",
    "    solver = SolverFactory('glpk')\n",
    "    solver.solve(model)\n",
    "\n",
    "    # Extract the results\n",
    "    rows_to_keep = [i-1 for i in range(1, m + 1) if model.r[i].value == 0]\n",
    "    cols_to_keep = [j-1 for j in range(1, n + 1) if model.c[j].value == 0]\n",
    "\n",
    "    return rows_to_keep, cols_to_keep\n",
    "\n",
    "\n",
    "%time rows, cols = linear_programming(x)\n",
    "\n",
    "plot(x, rows_to_keep=rows, cols_to_keep=cols)\n",
    "print(f\"The largest submatrix without NaN is of size {len(rows)}x{len(cols)} ({len(rows)*len(cols)} elements among {xt.size})\")"
   ]
  },
  {
   "cell_type": "markdown",
   "id": "8dfe071e-7ab0-4bd2-88fc-5a67cff3f0f8",
   "metadata": {},
   "source": [
    "Although producing the optimal solution, this approach becomes intractable for large-sized matrices."
   ]
  },
  {
   "cell_type": "markdown",
   "id": "5be20111-e0a1-4cab-baf0-aabfed20470f",
   "metadata": {},
   "source": [
    "### 3.2. Quadratic Programming\n",
    "\n",
    "By employing the variables mentioned earlier, an alternate perspective of the problem involves maximizing $$(m-\\sum_{i=1}^m r_i) \\times (n-\\sum_{i=1}^n c_j)$$\n",
    "while considering:\n",
    "- $r_i + c_j \\ge 1$ for each $(i,j)$ where $a_{i,j}$ is a NaN.\n",
    "\n",
    "Although the number of variables is reduced, the optimization problem becomes more challenging."
   ]
  },
  {
   "cell_type": "markdown",
   "id": "7938fc85-969e-4cd9-9ba4-985bcb1e0dea",
   "metadata": {},
   "source": [
    "## 4. OptiMask\n",
    "### 4.1. The algorithm\n",
    "\n",
    "OptiMask's algorithm aims to identify the optimal set of rows and columns for removal, maximizing the size of the submatrix without NaN values. Notably, a formal proof of convergence for this algorithm is currently *unavailable*.\n",
    "\n",
    "The algorithm iteratively computes permutations of rows and columns until a specific convergence criterion is met. This criterion relies on detecting a contiguous and well-ordered NaN frontier, similar to a **Pareto efficiency frontier**. Once identified, the problem simplifies to finding the largest contiguous rectangle, a computationally straightforward task. The stored permutations help pinpoint the rows and columns to be removed.\n",
    "\n",
    "OptiMask's algorithm is heuristic, introducing uncertainty compared to a linear programming approach. To increase the likelihood of an optimal solution, the algorithm undergoes multiple optimizations through repeated restarts with random permutations. The `n_tries` parameter controls the number of restarts, while the random_state parameter ensures reproducibility."
   ]
  },
  {
   "cell_type": "markdown",
   "id": "3fd89b42-8f9e-48f7-a654-8569df009ea5",
   "metadata": {},
   "source": [
    "Let `x` represent the array with missing values to be processed:"
   ]
  },
  {
   "cell_type": "code",
   "execution_count": 17,
   "id": "2911bb3f-e5b5-491c-a161-2f1082d278ba",
   "metadata": {},
   "outputs": [
    {
     "data": {
      "image/png": "[encoded data removed]",
      "text/plain": [
       "<Figure size 640x480 with 1 Axes>"
      ]
     },
     "metadata": {},
     "output_type": "display_data"
    }
   ],
   "source": [
    "x = generate_random(m=50, n=30, ratio=0.05)\n",
    "plot(x)"
   ]
  },
  {
   "cell_type": "markdown",
   "id": "f91d74cb-4743-42a7-8e4a-2a108a101138",
   "metadata": {},
   "source": [
    "The first step is to isolate the rows and columns with at least one NaN value. We know that the rows or columns with zero NaN values will necessarily be part of the sought submatrix. Now we work with a boolean matrix, which is set to True at the NaN cells of the original data. We introduce `hx` and `hy`, representing the indices of the highest True in each column and the indices of the rightmost True in each row, respectively."
   ]
  },
  {
   "cell_type": "code",
   "execution_count": 18,
   "id": "8b768a27-67d0-499d-bc46-dc2daed218a0",
   "metadata": {},
   "outputs": [],
   "source": [
    "def heights(x, axis=0):\n",
    "    return (x.shape[axis] - np.argmax(np.flip(x, axis=axis), axis=axis)).astype(np.int32)"
   ]
  },
  {
   "cell_type": "code",
   "execution_count": 19,
   "id": "7ea72d44-6f41-47c7-902f-4e9252fe8843",
   "metadata": {},
   "outputs": [
    {
     "data": {
      "image/png": "[encoded data removed]",
      "text/plain": [
       "<Figure size 640x480 with 1 Axes>"
      ]
     },
     "metadata": {},
     "output_type": "display_data"
    }
   ],
   "source": [
    "nan_rows, nan_cols = np.isnan(x).nonzero()\n",
    "nan_rows, nan_cols = np.unique(nan_rows), np.unique(nan_cols)\n",
    "xp = np.isnan(x[nan_rows][:, nan_cols])\n",
    "hx, hy = heights(xp, axis=0), heights(xp, axis=1)\n",
    "plot(xp, xticks=hx, yticks=hy)"
   ]
  },
  {
   "cell_type": "markdown",
   "id": "415e1095-9821-4b8c-8a71-a1c54fecaa1b",
   "metadata": {},
   "source": [
    "The algorithm's core involves computing a series of permutations with the objective of ordering `hx` and `hy` to establish a Pareto frontier of NaN. This implies that both `hx` and `hy` should exhibit a decreasing trend. Importantly, at each step, the algorithm performs a permutation to order `hx`, followed by a permutation to order `hy`, and then alternates back and forth between `hx` and `hy` until both sequences exhibit a decreasing order."
   ]
  },
  {
   "cell_type": "code",
   "execution_count": 20,
   "id": "532d7830-fdd3-41b6-9eae-f97e27a297ba",
   "metadata": {},
   "outputs": [
    {
     "data": {
      "image/png": "[encoded data removed]",
      "text/plain": [
       "<Figure size 640x480 with 1 Axes>"
      ]
     },
     "metadata": {},
     "output_type": "display_data"
    },
    {
     "data": {
      "image/png": "[encoded data removed]",
      "text/plain": [
       "<Figure size 640x480 with 1 Axes>"
      ]
     },
     "metadata": {},
     "output_type": "display_data"
    },
    {
     "data": {
      "image/png": "[encoded data removed]",
      "text/plain": [
       "<Figure size 640x480 with 1 Axes>"
      ]
     },
     "metadata": {},
     "output_type": "display_data"
    },
    {
     "data": {
      "image/png": "[encoded data removed]",
      "text/plain": [
       "<Figure size 640x480 with 1 Axes>"
      ]
     },
     "metadata": {},
     "output_type": "display_data"
    }
   ],
   "source": [
    "hx, hy = heights(xp, axis=0).astype(np.int64), heights(xp, axis=1).astype(np.int64)\n",
    "k = 0\n",
    "while not OptiMask._is_pareto_ordered(hx, hy):\n",
    "    axis = (k % 2)\n",
    "    p_step = np.argsort(-heights(xp, axis=axis))\n",
    "    if axis == 0:\n",
    "        xp = xp[:, p_step]\n",
    "    if axis == 1:\n",
    "        xp = xp[p_step]\n",
    "    hx, hy = heights(xp, axis=0).astype(np.int64), heights(xp, axis=1).astype(np.int64)\n",
    "    plot(xp, xticks=hx, yticks=hy, title=f'Iteration {k+1}')\n",
    "    k += 1"
   ]
  },
  {
   "cell_type": "markdown",
   "id": "7daf536b-973c-4464-9385-7ea0baa48736",
   "metadata": {},
   "source": [
    "Then, we can now seek the largest **contiguous rectangle** starting from the **upper right** of the matrix (without forgetting the rows and columns without NaN, not displayed here). Since we have kept track of the successive permutations, both over rows and columns, the algorithm can return the rows and columns to remove (or keep)."
   ]
  },
  {
   "cell_type": "markdown",
   "id": "318ae740-d5c2-4332-8f82-f98027690c46",
   "metadata": {},
   "source": [
    "This computation is performed `n_tries` times over a copy of the matrix to process, where its rows and columns are each time randomly permuted. Each iteration results in a different NaN frontier and a different set of rows and columns to remove. After the `n_tries` computations, the set that leads to the largest submatrix without NaN is retained. Therefore, increasing n_tries leads to better results, and it may even reach the optimal one."
   ]
  },
  {
   "cell_type": "markdown",
   "id": "7ccd8d0b-138f-49f0-a55a-445d8264273a",
   "metadata": {},
   "source": [
    "### 4.2. `n_tries` influence on the quality of the solution\n",
    "\n",
    "Given an `m`x`n` matrix with missing values occurring at a random frequency of `ratio`, how does increasing `n_tries` influence the size of the computed submatrix?"
   ]
  },
  {
   "cell_type": "code",
   "execution_count": 21,
   "id": "65c6f2ea-5d8a-4688-ae95-c839a6d9a991",
   "metadata": {},
   "outputs": [],
   "source": [
    "def convergence_plot(m, n, ratio, n_tries, n_permutations=1000):\n",
    "    def cummax(arr): return np.maximum.accumulate(arr)\n",
    "\n",
    "    x = generate_random(m, n, ratio)\n",
    "    opt_rows, opt_cols = linear_programming(x)\n",
    "    opt_size = len(opt_rows) * len(opt_cols)\n",
    "\n",
    "    optimask = OptiMask(n_tries=1)\n",
    "\n",
    "    ret = np.zeros(n_tries)\n",
    "    for k in range(n_tries):\n",
    "        rows, cols = optimask.solve(x)\n",
    "        ret[k] = len(rows) * len(cols)\n",
    "\n",
    "    ret_mean = np.zeros_like(ret, dtype=float)\n",
    "\n",
    "    plt.figure(figsize=(8, 3))\n",
    "    for _ in range(n_permutations):\n",
    "        ret_iter = cummax(ret[np.random.permutation(len(ret))])\n",
    "        plt.plot(ret_iter, c='grey', lw=0.05)\n",
    "        ret_mean += ret_iter / n_permutations\n",
    "    plt.plot(ret_mean, c='k', lw=2)\n",
    "    plt.axhline(y=opt_size, c='r', linestyle='dashed')\n",
    "    plt.xlabel('number of random restarts')\n",
    "    plt.ylabel('size of the solution')\n",
    "    plt.title(\"Effect of Randomized Restarts on Heuristic Solution Quality\")\n",
    "    plt.xlim(0, n_tries)\n",
    "    plt.text(x=1.025*n_tries, y=opt_size, s='size of the optimal solution', c='r')\n",
    "    plt.show()"
   ]
  },
  {
   "cell_type": "code",
   "execution_count": 22,
   "id": "dd714168-2fff-4e7b-ba1c-785ca6f2d45c",
   "metadata": {},
   "outputs": [
    {
     "data": {
      "image/png": "[encoded data removed]",
      "text/plain": [
       "<Figure size 800x300 with 1 Axes>"
      ]
     },
     "metadata": {},
     "output_type": "display_data"
    }
   ],
   "source": [
    "convergence_plot(m=40, n=40, ratio=0.025, n_tries=100)"
   ]
  },
  {
   "cell_type": "markdown",
   "id": "38041607-e7c1-45d2-9be2-c61b26464aa6",
   "metadata": {},
   "source": [
    "### 4.3. What about structured NaN patterns ?\n",
    "\n",
    "OptiMask is also efficient on structured NaN patterns (the largest submatrix found is in blue, the removed cells are in red):"
   ]
  },
  {
   "cell_type": "code",
   "execution_count": 23,
   "id": "ab82df95-0987-40cc-bb27-37bbaf085bc1",
   "metadata": {},
   "outputs": [],
   "source": [
    "def solve_and_plot(x):\n",
    "    rows, cols = OptiMask().solve(x)\n",
    "    plt.figure(figsize=(10, 4))\n",
    "    plt.subplot(1, 2, 1)\n",
    "    plot(x, show=False)\n",
    "    plt.subplot(1, 2, 2)\n",
    "    plot(x, rows_to_keep=rows, cols_to_keep=cols)\n",
    "    plt.show()"
   ]
  },
  {
   "cell_type": "code",
   "execution_count": 24,
   "id": "777f48f1-6d85-4574-9fd1-5379e91309d7",
   "metadata": {},
   "outputs": [],
   "source": [
    "n = 31"
   ]
  },
  {
   "cell_type": "code",
   "execution_count": 25,
   "id": "3ad96565-bcf5-4b46-acbc-583ea5f0b003",
   "metadata": {},
   "outputs": [
    {
     "data": {
      "image/png": "[encoded data removed]",
      "text/plain": [
       "<Figure size 1000x400 with 2 Axes>"
      ]
     },
     "metadata": {},
     "output_type": "display_data"
    }
   ],
   "source": [
    "x = np.zeros((n, n))\n",
    "iy, ix = np.indices(x.shape)\n",
    "x[np.mod(iy+ix, 2) == 0] = np.nan\n",
    "solve_and_plot(x)"
   ]
  },
  {
   "cell_type": "code",
   "execution_count": 26,
   "id": "e1cfc559-433f-4f3e-9a1d-c7761f3233f0",
   "metadata": {},
   "outputs": [
    {
     "data": {
      "image/png": "[encoded data removed]",
      "text/plain": [
       "<Figure size 1000x400 with 2 Axes>"
      ]
     },
     "metadata": {},
     "output_type": "display_data"
    }
   ],
   "source": [
    "x = np.zeros((n, n))\n",
    "iy, ix = np.indices(x.shape)\n",
    "x[(np.mod(ix, 2) == 0) & (np.mod(iy, 2) == 0)] = np.nan\n",
    "solve_and_plot(x)"
   ]
  },
  {
   "cell_type": "code",
   "execution_count": 27,
   "id": "1d2f6d34-625e-4512-a4ea-cd1c3defa9d6",
   "metadata": {},
   "outputs": [
    {
     "data": {
      "image/png": "[encoded data removed]",
      "text/plain": [
       "<Figure size 1000x400 with 2 Axes>"
      ]
     },
     "metadata": {},
     "output_type": "display_data"
    }
   ],
   "source": [
    "x = np.zeros((n, n))\n",
    "iy, ix = np.indices(x.shape)\n",
    "x[np.mod(iy+ix, 3) == 0] = np.nan\n",
    "solve_and_plot(x)"
   ]
  },
  {
   "cell_type": "code",
   "execution_count": 28,
   "id": "3d7b07be-4fd7-443f-b40a-2ad260a13cbf",
   "metadata": {},
   "outputs": [
    {
     "data": {
      "image/png": "[encoded data removed]",
      "text/plain": [
       "<Figure size 1000x400 with 2 Axes>"
      ]
     },
     "metadata": {},
     "output_type": "display_data"
    }
   ],
   "source": [
    "x = np.zeros((n, n))\n",
    "iy, ix = np.indices(x.shape)\n",
    "x[np.mod(iy+ix, 8) == 0] = np.nan\n",
    "solve_and_plot(x)"
   ]
  },
  {
   "cell_type": "code",
   "execution_count": 29,
   "id": "714db2fd-f7a8-4bb5-9b18-f175bd0215b4",
   "metadata": {},
   "outputs": [
    {
     "data": {
      "image/png": "[encoded data removed]",
      "text/plain": [
       "<Figure size 1000x400 with 2 Axes>"
      ]
     },
     "metadata": {},
     "output_type": "display_data"
    }
   ],
   "source": [
    "x = np.zeros((n, n))\n",
    "iy, ix = np.indices(x.shape)\n",
    "x[np.mod(iy+ix, 12) == 0] = np.nan\n",
    "solve_and_plot(x)"
   ]
  },
  {
   "cell_type": "markdown",
   "id": "515bcdbf-fd7a-4bc5-b60a-04e1061587e6",
   "metadata": {},
   "source": [
    "### 4.4. Dealing with large matrices\n",
    "\n",
    "``OptiMask`` can efficiently handle large matrices within a reasonable amount of time. Its time complexity is proportional to the number of NaN cells, and the number `n_tries`."
   ]
  },
  {
   "cell_type": "code",
   "execution_count": 30,
   "id": "98f8dd39-1e1e-4e2a-97f9-537ee5bd0803",
   "metadata": {},
   "outputs": [
    {
     "name": "stdout",
     "output_type": "stream",
     "text": [
      "CPU times: total: 0 ns\n",
      "Wall time: 0 ns\n"
     ]
    },
    {
     "data": {
      "text/plain": [
       "False"
      ]
     },
     "execution_count": 30,
     "metadata": {},
     "output_type": "execute_result"
    }
   ],
   "source": [
    "x = generate_random(m=10_000, n=100, ratio=0.02)\n",
    "%time rows, cols = OptiMask().solve(x)\n",
    "np.isnan(x[rows][:, cols]).any()"
   ]
  },
  {
   "cell_type": "code",
   "execution_count": 31,
   "id": "8acdfddb-8a16-4c60-a0d6-06daf7f49327",
   "metadata": {},
   "outputs": [
    {
     "name": "stdout",
     "output_type": "stream",
     "text": [
      "CPU times: total: 15.6 ms\n",
      "Wall time: 15.6 ms\n"
     ]
    },
    {
     "data": {
      "text/plain": [
       "False"
      ]
     },
     "execution_count": 31,
     "metadata": {},
     "output_type": "execute_result"
    }
   ],
   "source": [
    "x = generate_random(m=1_000, n=1_000, ratio=0.02)\n",
    "%time rows, cols = OptiMask().solve(x)\n",
    "np.isnan(x[rows][:, cols]).any()"
   ]
  },
  {
   "cell_type": "code",
   "execution_count": 32,
   "id": "109fe188-a8b7-49d2-b120-82b8bb79debe",
   "metadata": {},
   "outputs": [
    {
     "name": "stdout",
     "output_type": "stream",
     "text": [
      "CPU times: total: 844 ms\n",
      "Wall time: 853 ms\n"
     ]
    },
    {
     "data": {
      "text/plain": [
       "False"
      ]
     },
     "execution_count": 32,
     "metadata": {},
     "output_type": "execute_result"
    }
   ],
   "source": [
    "x = generate_random(m=100_000, n=1_000, ratio=0.02)\n",
    "%time rows, cols = OptiMask().solve(x)\n",
    "np.isnan(x[rows][:, cols]).any()"
   ]
  }
 ],
 "metadata": {
  "kernelspec": {
   "display_name": "Python 3 (ipykernel)",
   "language": "python",
   "name": "python3"
  },
  "language_info": {
   "codemirror_mode": {
    "name": "ipython",
    "version": 3
   },
   "file_extension": ".py",
   "mimetype": "text/x-python",
   "name": "python",
   "nbconvert_exporter": "python",
   "pygments_lexer": "ipython3",
   "version": "3.10.14"
  },
  "widgets": {
   "application/vnd.jupyter.widget-state+json": {
    "state": {},
    "version_major": 2,
    "version_minor": 0
   }
  }
 },
 "nbformat": 4,
 "nbformat_minor": 5
}
